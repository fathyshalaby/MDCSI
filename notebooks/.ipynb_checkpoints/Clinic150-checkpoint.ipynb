{
 "cells": [
  {
   "cell_type": "code",
   "execution_count": 1,
   "metadata": {},
   "outputs": [
    {
     "ename": "ModuleNotFoundError",
     "evalue": "No module named 'altair'",
     "output_type": "error",
     "traceback": [
      "\u001b[1;31m---------------------------------------------------------------------------\u001b[0m",
      "\u001b[1;31mModuleNotFoundError\u001b[0m                       Traceback (most recent call last)",
      "Input \u001b[1;32mIn [1]\u001b[0m, in \u001b[0;36m<cell line: 3>\u001b[1;34m()\u001b[0m\n\u001b[0;32m      1\u001b[0m \u001b[38;5;28;01mimport\u001b[39;00m \u001b[38;5;21;01mpandas\u001b[39;00m \u001b[38;5;28;01mas\u001b[39;00m \u001b[38;5;21;01mpd\u001b[39;00m\n\u001b[0;32m      2\u001b[0m \u001b[38;5;28;01mimport\u001b[39;00m \u001b[38;5;21;01mnumpy\u001b[39;00m \u001b[38;5;28;01mas\u001b[39;00m \u001b[38;5;21;01mnp\u001b[39;00m\n\u001b[1;32m----> 3\u001b[0m \u001b[38;5;28;01mimport\u001b[39;00m \u001b[38;5;21;01maltair\u001b[39;00m \u001b[38;5;28;01mas\u001b[39;00m \u001b[38;5;21;01malt\u001b[39;00m\n\u001b[0;32m      4\u001b[0m \u001b[38;5;28;01mimport\u001b[39;00m \u001b[38;5;21;01mtransformers\u001b[39;00m \u001b[38;5;28;01mas\u001b[39;00m \u001b[38;5;21;01mtr\u001b[39;00m\u001b[38;5;66;03m# hugging face library, model weights\u001b[39;00m\n\u001b[0;32m      5\u001b[0m \u001b[38;5;28;01mimport\u001b[39;00m \u001b[38;5;21;01mdatasets\u001b[39;00m\u001b[38;5;66;03m# hugging face library dataset\u001b[39;00m\n",
      "\u001b[1;31mModuleNotFoundError\u001b[0m: No module named 'altair'"
     ]
    }
   ],
   "source": [
    "import pandas as pd\n",
    "import numpy as np\n",
    "import altair as alt\n",
    "import transformers as tr# hugging face library, model weights\n",
    "import datasets# hugging face library dataset\n",
    "import seaborn as sns\n",
    "from typing import List,Dict \n",
    "import plotly.express as px\n",
    "from transformers_interpret import SequenceClassificationExplainer\n",
    "from tqdm.notebook import tqdm\n",
    "import similar_sounding_words as ssw\n",
    "import random"
   ]
  },
  {
   "cell_type": "markdown",
   "metadata": {
    "jp-MarkdownHeadingCollapsed": true,
    "tags": []
   },
   "source": [
    "## Data Analysis\n"
   ]
  },
  {
   "cell_type": "code",
   "execution_count": null,
   "metadata": {},
   "outputs": [],
   "source": [
    "from datasets import load_dataset\n",
    "\n",
    "dataset = load_dataset(\"clinc_oos\",\"imbalanced\")"
   ]
  },
  {
   "cell_type": "code",
   "execution_count": null,
   "metadata": {},
   "outputs": [],
   "source": [
    "id2label= {\n",
    "    \"0\": \"restaurant_reviews\",\n",
    "    \"1\": \"nutrition_info\",\n",
    "    \"2\": \"account_blocked\",\n",
    "    \"3\": \"oil_change_how\",\n",
    "    \"4\": \"time\",\n",
    "    \"5\": \"weather\",\n",
    "    \"6\": \"redeem_rewards\",\n",
    "    \"7\": \"interest_rate\",\n",
    "    \"8\": \"gas_type\",\n",
    "    \"9\": \"accept_reservations\",\n",
    "    \"10\": \"smart_home\",\n",
    "    \"11\": \"user_name\",\n",
    "    \"12\": \"report_lost_card\",\n",
    "    \"13\": \"repeat\",\n",
    "    \"14\": \"whisper_mode\",\n",
    "    \"15\": \"what_are_your_hobbies\",\n",
    "    \"16\": \"order\",\n",
    "    \"17\": \"jump_start\",\n",
    "    \"18\": \"schedule_meeting\",\n",
    "    \"19\": \"meeting_schedule\",\n",
    "    \"20\": \"freeze_account\",\n",
    "    \"21\": \"what_song\",\n",
    "    \"22\": \"meaning_of_life\",\n",
    "    \"23\": \"restaurant_reservation\",\n",
    "    \"24\": \"traffic\",\n",
    "    \"25\": \"make_call\",\n",
    "    \"26\": \"text\",\n",
    "    \"27\": \"bill_balance\",\n",
    "    \"28\": \"improve_credit_score\",\n",
    "    \"29\": \"change_language\",\n",
    "    \"30\": \"no\",\n",
    "    \"31\": \"measurement_conversion\",\n",
    "    \"32\": \"timer\",\n",
    "    \"33\": \"flip_coin\",\n",
    "    \"34\": \"do_you_have_pets\",\n",
    "    \"35\": \"balance\",\n",
    "    \"36\": \"tell_joke\",\n",
    "    \"37\": \"last_maintenance\",\n",
    "    \"38\": \"exchange_rate\",\n",
    "    \"39\": \"uber\",\n",
    "    \"40\": \"car_rental\",\n",
    "    \"41\": \"credit_limit\",\n",
    "    \"42\": \"oos\",\n",
    "    \"43\": \"shopping_list\",\n",
    "    \"44\": \"expiration_date\",\n",
    "    \"45\": \"routing\",\n",
    "    \"46\": \"meal_suggestion\",\n",
    "    \"47\": \"tire_change\",\n",
    "    \"48\": \"todo_list\",\n",
    "    \"49\": \"card_declined\",\n",
    "    \"50\": \"rewards_balance\",\n",
    "    \"51\": \"change_accent\",\n",
    "    \"52\": \"vaccines\",\n",
    "    \"53\": \"reminder_update\",\n",
    "    \"54\": \"food_last\",\n",
    "    \"55\": \"change_ai_name\",\n",
    "    \"56\": \"bill_due\",\n",
    "    \"57\": \"who_do_you_work_for\",\n",
    "    \"58\": \"share_location\",\n",
    "    \"59\": \"international_visa\",\n",
    "    \"60\": \"calendar\",\n",
    "    \"61\": \"translate\",\n",
    "    \"62\": \"carry_on\",\n",
    "    \"63\": \"book_flight\",\n",
    "    \"64\": \"insurance_change\",\n",
    "    \"65\": \"todo_list_update\",\n",
    "    \"66\": \"timezone\",\n",
    "    \"67\": \"cancel_reservation\",\n",
    "    \"68\": \"transactions\",\n",
    "    \"69\": \"credit_score\",\n",
    "    \"70\": \"report_fraud\",\n",
    "    \"71\": \"spending_history\",\n",
    "    \"72\": \"directions\",\n",
    "    \"73\": \"spelling\",\n",
    "    \"74\": \"insurance\",\n",
    "    \"75\": \"what_is_your_name\",\n",
    "    \"76\": \"reminder\",\n",
    "    \"77\": \"where_are_you_from\",\n",
    "    \"78\": \"distance\",\n",
    "    \"79\": \"payday\",\n",
    "    \"80\": \"flight_status\",\n",
    "    \"81\": \"find_phone\",\n",
    "    \"82\": \"greeting\",\n",
    "    \"83\": \"alarm\",\n",
    "    \"84\": \"order_status\",\n",
    "    \"85\": \"confirm_reservation\",\n",
    "    \"86\": \"cook_time\",\n",
    "    \"87\": \"damaged_card\",\n",
    "    \"88\": \"reset_settings\",\n",
    "    \"89\": \"pin_change\",\n",
    "    \"90\": \"replacement_card_duration\",\n",
    "    \"91\": \"new_card\",\n",
    "    \"92\": \"roll_dice\",\n",
    "    \"93\": \"income\",\n",
    "    \"94\": \"taxes\",\n",
    "    \"95\": \"date\",\n",
    "    \"96\": \"who_made_you\",\n",
    "    \"97\": \"pto_request\",\n",
    "    \"98\": \"tire_pressure\",\n",
    "    \"99\": \"how_old_are_you\",\n",
    "    \"100\": \"rollover_401k\",\n",
    "    \"101\": \"pto_request_status\",\n",
    "    \"102\": \"how_busy\",\n",
    "    \"103\": \"application_status\",\n",
    "    \"104\": \"recipe\",\n",
    "    \"105\": \"calendar_update\",\n",
    "    \"106\": \"play_music\",\n",
    "    \"107\": \"yes\",\n",
    "    \"108\": \"direct_deposit\",\n",
    "    \"109\": \"credit_limit_change\",\n",
    "    \"110\": \"gas\",\n",
    "    \"111\": \"pay_bill\",\n",
    "    \"112\": \"ingredients_list\",\n",
    "    \"113\": \"lost_luggage\",\n",
    "    \"114\": \"goodbye\",\n",
    "    \"115\": \"what_can_i_ask_you\",\n",
    "    \"116\": \"book_hotel\",\n",
    "    \"117\": \"are_you_a_bot\",\n",
    "    \"118\": \"next_song\",\n",
    "    \"119\": \"change_speed\",\n",
    "    \"120\": \"plug_type\",\n",
    "    \"121\": \"maybe\",\n",
    "    \"122\": \"w2\",\n",
    "    \"123\": \"oil_change_when\",\n",
    "    \"124\": \"thank_you\",\n",
    "    \"125\": \"shopping_list_update\",\n",
    "    \"126\": \"pto_balance\",\n",
    "    \"127\": \"order_checks\",\n",
    "    \"128\": \"travel_alert\",\n",
    "    \"129\": \"fun_fact\",\n",
    "    \"130\": \"sync_device\",\n",
    "    \"131\": \"schedule_maintenance\",\n",
    "    \"132\": \"apr\",\n",
    "    \"133\": \"transfer\",\n",
    "    \"134\": \"ingredient_substitution\",\n",
    "    \"135\": \"calories\",\n",
    "    \"136\": \"current_location\",\n",
    "    \"137\": \"international_fees\",\n",
    "    \"138\": \"calculator\",\n",
    "    \"139\": \"definition\",\n",
    "    \"140\": \"next_holiday\",\n",
    "    \"141\": \"update_playlist\",\n",
    "    \"142\": \"mpg\",\n",
    "    \"143\": \"min_payment\",\n",
    "    \"144\": \"change_user_name\",\n",
    "    \"145\": \"restaurant_suggestion\",\n",
    "    \"146\": \"travel_notification\",\n",
    "    \"147\": \"cancel\",\n",
    "    \"148\": \"pto_used\",\n",
    "    \"149\": \"travel_suggestion\",\n",
    "    \"150\": \"change_volume\"\n",
    "  }\n",
    "\n",
    "domains_dict={\n",
    "    \"banking\": [\n",
    "        \"freeze_account\",\n",
    "        \"routing\",\n",
    "        \"pin_change\",\n",
    "        \"bill_due\",\n",
    "        \"pay_bill\",\n",
    "        \"account_blocked\",\n",
    "        \"interest_rate\",\n",
    "        \"min_payment\",\n",
    "        \"bill_balance\",\n",
    "        \"transfer\",\n",
    "        \"order_checks\",\n",
    "        \"balance\",\n",
    "        \"spending_history\",\n",
    "        \"transactions\",\n",
    "        \"report_fraud\"\n",
    "    ],\n",
    "    \"credit_cards\": [\n",
    "        \"replacement_card_duration\",\n",
    "        \"expiration_date\",\n",
    "        \"damaged_card\",\n",
    "        \"improve_credit_score\",\n",
    "        \"report_lost_card\",\n",
    "        \"card_declined\",\n",
    "        \"credit_limit_change\",\n",
    "        \"apr\",\n",
    "        \"redeem_rewards\",\n",
    "        \"credit_limit\",\n",
    "        \"rewards_balance\",\n",
    "        \"application_status\",\n",
    "        \"credit_score\",\n",
    "        \"new_card\",\n",
    "        \"international_fees\"\n",
    "    ],\n",
    "    \"kitchen_and_dining\": [\n",
    "        \"food_last\",\n",
    "        \"confirm_reservation\",\n",
    "        \"how_busy\",\n",
    "        \"ingredients_list\",\n",
    "        \"calories\",\n",
    "        \"nutrition_info\",\n",
    "        \"recipe\",\n",
    "        \"restaurant_reviews\",\n",
    "        \"restaurant_reservation\",\n",
    "        \"meal_suggestion\",\n",
    "        \"restaurant_suggestion\",\n",
    "        \"cancel_reservation\",\n",
    "        \"ingredient_substitution\",\n",
    "        \"cook_time\",\n",
    "        \"accept_reservations\"\n",
    "    ],\n",
    "    \"home\": [\n",
    "        \"what_song\",\n",
    "        \"play_music\",\n",
    "        \"todo_list_update\",\n",
    "        \"reminder\",\n",
    "        \"reminder_update\",\n",
    "        \"calendar_update\",\n",
    "        \"order_status\",\n",
    "        \"update_playlist\",\n",
    "        \"shopping_list\",\n",
    "        \"calendar\",\n",
    "        \"next_song\",\n",
    "        \"order\",\n",
    "        \"todo_list\",\n",
    "        \"shopping_list_update\",\n",
    "        \"smart_home\"\n",
    "    ],\n",
    "    \"auto_and_commute\": [\n",
    "        \"current_location\",\n",
    "        \"oil_change_when\",\n",
    "        \"oil_change_how\",\n",
    "        \"uber\",\n",
    "        \"traffic\",\n",
    "        \"tire_pressure\",\n",
    "        \"schedule_maintenance\",\n",
    "        \"gas\",\n",
    "        \"mpg\",\n",
    "        \"distance\",\n",
    "        \"directions\",\n",
    "        \"last_maintenance\",\n",
    "        \"gas_type\",\n",
    "        \"tire_change\",\n",
    "        \"jump_start\"\n",
    "    ],\n",
    "    \"travel\": [\n",
    "        \"plug_type\",\n",
    "        \"travel_notification\",\n",
    "        \"translate\",\n",
    "        \"flight_status\",\n",
    "        \"international_visa\",\n",
    "        \"timezone\",\n",
    "        \"exchange_rate\",\n",
    "        \"travel_suggestion\",\n",
    "        \"travel_alert\",\n",
    "        \"vaccines\",\n",
    "        \"lost_luggage\",\n",
    "        \"book_flight\",\n",
    "        \"book_hotel\",\n",
    "        \"carry_on\",\n",
    "        \"car_rental\"\n",
    "    ],\n",
    "    \"utility\": [\n",
    "        \"weather\",\n",
    "        \"alarm\",\n",
    "        \"date\",\n",
    "        \"find_phone\",\n",
    "        \"share_location\",\n",
    "        \"timer\",\n",
    "        \"make_call\",\n",
    "        \"calculator\",\n",
    "        \"definition\",\n",
    "        \"measurement_conversion\",\n",
    "        \"flip_coin\",\n",
    "        \"spelling\",\n",
    "        \"time\",\n",
    "        \"roll_dice\",\n",
    "        \"text\"\n",
    "    ],\n",
    "    \"work\": [\n",
    "        \"pto_request_status\",\n",
    "        \"next_holiday\",\n",
    "        \"insurance_change\",\n",
    "        \"insurance\",\n",
    "        \"meeting_schedule\",\n",
    "        \"payday\",\n",
    "        \"taxes\",\n",
    "        \"income\",\n",
    "        \"rollover_401k\",\n",
    "        \"pto_balance\",\n",
    "        \"pto_request\",\n",
    "        \"w2\",\n",
    "        \"schedule_meeting\",\n",
    "        \"direct_deposit\",\n",
    "        \"pto_used\"\n",
    "    ],\n",
    "    \"small_talk\": [\n",
    "        \"who_made_you\",\n",
    "        \"meaning_of_life\",\n",
    "        \"who_do_you_work_for\",\n",
    "        \"do_you_have_pets\",\n",
    "        \"what_are_your_hobbies\",\n",
    "        \"fun_fact\",\n",
    "        \"what_is_your_name\",\n",
    "        \"where_are_you_from\",\n",
    "        \"goodbye\",\n",
    "        \"thank_you\",\n",
    "        \"greeting\",\n",
    "        \"tell_joke\",\n",
    "        \"are_you_a_bot\",\n",
    "        \"how_old_are_you\",\n",
    "        \"what_can_i_ask_you\"\n",
    "    ],\n",
    "    \"meta\": [\n",
    "        \"change_speed\",\n",
    "        \"user_name\",\n",
    "        \"whisper_mode\",\n",
    "        \"yes\",\n",
    "        \"change_volume\",\n",
    "        \"no\",\n",
    "        \"change_language\",\n",
    "        \"repeat\",\n",
    "        \"change_accent\",\n",
    "        \"cancel\",\n",
    "        \"sync_device\",\n",
    "        \"change_user_name\",\n",
    "        \"change_ai_name\",\n",
    "        \"reset_settings\",\n",
    "        \"maybe\"\n",
    "    ]\n",
    "}"
   ]
  },
  {
   "cell_type": "code",
   "execution_count": null,
   "metadata": {},
   "outputs": [],
   "source": [
    "labels = dataset[\"train\"][\"intent\"]\n",
    "texts = dataset[\"train\"][\"text\"]"
   ]
  },
  {
   "cell_type": "code",
   "execution_count": null,
   "metadata": {},
   "outputs": [],
   "source": [
    "def get_domain(text_label):\n",
    "    for k in domains_dict.keys():\n",
    "        if text_label in domains_dict[k]:\n",
    "            return k\n",
    "def get_number_words(text):\n",
    "    return len(text.split(\" \"))\n",
    "    \n",
    "labels_text=[id2label[str(i)] for i in labels]\n",
    "domains = [get_domain(l)for l in labels_text]\n",
    "num_words = [get_number_words(tex) for tex in texts]\n",
    "assert len(labels_text)==len(domains)"
   ]
  },
  {
   "cell_type": "markdown",
   "metadata": {},
   "source": [
    "### Stats about the dataset"
   ]
  },
  {
   "cell_type": "code",
   "execution_count": null,
   "metadata": {},
   "outputs": [],
   "source": [
    "# Create a dataframe that which includes some metadata\n",
    "dataframe = pd.DataFrame({\"text\":texts,\"label\":labels,\"label_text\":labels_text,\"domain\":domains,\"n_words\":num_words})\n",
    "dataframe = dataframe.dropna()"
   ]
  },
  {
   "cell_type": "code",
   "execution_count": null,
   "metadata": {},
   "outputs": [],
   "source": [
    "dataframe"
   ]
  },
  {
   "cell_type": "code",
   "execution_count": null,
   "metadata": {},
   "outputs": [],
   "source": [
    "fig = px.histogram(dataframe, x='domain', template='plotly_white', title='Queries counts by Domain')\n",
    "fig.update_xaxes(categoryorder='total descending').update_yaxes(title='Number of Queries')\n",
    "fig.show()"
   ]
  },
  {
   "cell_type": "code",
   "execution_count": null,
   "metadata": {},
   "outputs": [],
   "source": [
    "fig = px.histogram(dataframe, x='label_text', template='plotly_white', title='Queries counts by Intent')\n",
    "fig.update_xaxes(categoryorder='total descending').update_yaxes(title='Number of Queries')\n",
    "fig.show()"
   ]
  },
  {
   "cell_type": "code",
   "execution_count": null,
   "metadata": {},
   "outputs": [],
   "source": [
    "fig = px.histogram(dataframe, x='n_words', template='plotly_white', title='Queries counts by word count')\n",
    "fig.update_xaxes(categoryorder='total descending').update_yaxes(title='Number of Queries')\n",
    "fig.show()"
   ]
  },
  {
   "cell_type": "code",
   "execution_count": null,
   "metadata": {},
   "outputs": [],
   "source": [
    "# Complaints by company & date\n",
    "fig = px.histogram(dataframe, x='label_text', template='plotly_white', title='Queries counts by intent'\n",
    "                   , color='domain')\n",
    "fig.update_xaxes(categoryorder='category descending', title='Intent').update_yaxes(title='Number of queries')\n",
    "fig.show()"
   ]
  },
  {
   "cell_type": "code",
   "execution_count": null,
   "metadata": {},
   "outputs": [],
   "source": [
    "fig = px.treemap(dataframe, title='Treemap chart by domain and the corresponding intent with the average n_words',\n",
    "                 path=['domain', 'label_text'], color='n_words', color_continuous_scale=px.colors.sequential.GnBu, width=2048)\n",
    "fig.show()"
   ]
  },
  {
   "cell_type": "code",
   "execution_count": null,
   "metadata": {},
   "outputs": [],
   "source": [
    "def get_portion(datafram):\n",
    "    # Calculates the portion of the domain which the following intent matches with\n",
    "    d_list=[]\n",
    "    int_list=[]\n",
    "    portion_list=[]\n",
    "    for domain in domains_dict.keys():\n",
    "        d_dataframe = datafram[datafram[\"domain\"]==domain]\n",
    "        for label in domains_dict[domain]:\n",
    "            int_dataframe = d_dataframe[d_dataframe[\"label_text\"]==label]\n",
    "            d_list.append(domain)\n",
    "            int_list.append(label)\n",
    "            p= len(int_dataframe)/len(d_dataframe)\n",
    "            portion_list.append(p)\n",
    "    bd= pd.DataFrame({\"intent\":int_list,\"domain\":d_list,\"portion\":portion_list})\n",
    "    return bd\n",
    "\n",
    "domain_df = get_portion(dataframe)\n",
    "domain_df"
   ]
  },
  {
   "cell_type": "code",
   "execution_count": null,
   "metadata": {},
   "outputs": [],
   "source": [
    "fig = px.bar(domain_df, x='portion', y='domain', template='plotly_white', orientation='h',\n",
    "             labels={'portion': '% of Complaints', 'intent': 'Intent', 'domain': 'Domain'},\n",
    "             color='intent', color_discrete_sequence=px.colors.qualitative.Safe)\n",
    "fig.update_layout(font=dict(size=10, color='DarkSlateGray'))\n",
    "fig.update_layout(width=2400, height=1000)\n",
    "fig.show()"
   ]
  },
  {
   "cell_type": "markdown",
   "metadata": {
    "tags": []
   },
   "source": [
    "## Qualitative comparison"
   ]
  },
  {
   "cell_type": "code",
   "execution_count": null,
   "metadata": {},
   "outputs": [],
   "source": [
    "import spacy\n",
    "nlp = spacy.load(\"en_core_web_lg\")\n",
    "def encode_sentences(sentences,token=\"_\"):\n",
    "    # Calculate number of sentences\n",
    "    n_sentences = len(sentences)\n",
    "    X = np.zeros((n_sentences, 300))\n",
    "\n",
    "    # Iterate over the sentences\n",
    "    for idx, sentence in enumerate(tqdm(sentences)):\n",
    "        y=[]\n",
    "        for word in sentence.split(token):\n",
    "            # Pass each sentence to the nlp object to create a document\n",
    "            doc = nlp(sentence)\n",
    "            # Save the document's .vector attribute to the corresponding row in     \n",
    "            # X\n",
    "            y.append(doc.vector)\n",
    "        X[idx, :] = np.mean(y)\n",
    "    return X\n",
    "\n",
    "unique_labels = np.unique(labels_text).tolist()\n",
    "train_X = encode_sentences(texts,token=\" \")\n",
    "train_y = encode_sentences(unique_labels)"
   ]
  },
  {
   "cell_type": "code",
   "execution_count": null,
   "metadata": {},
   "outputs": [],
   "source": [
    "from sklearn.manifold import TSNE\n",
    "import re\n",
    "\n",
    "X = train_X\n",
    "y= train_y\n",
    "tsne = TSNE(n_components=2, verbose=1, random_state=42, angle=0.99, init=\"pca\",perplexity=30)\n",
    "X_tsne = tsne.fit_transform(X)\n",
    "y_tsne = tsne.fit_transform(y)"
   ]
  },
  {
   "cell_type": "code",
   "execution_count": null,
   "metadata": {},
   "outputs": [],
   "source": [
    "#creating a dataframe from the tsne\n",
    "tsne1 = [x[0] for x in X_tsne]\n",
    "tsne2 = [x[1] for x in X_tsne]\n",
    "count = [labels_text.count(t) for t in unique_labels]\n",
    "avg_words = [dataframe[dataframe[\"label_text\"]== t][\"n_words\"].mean() for t in unique_labels]\n",
    "\n",
    "embed_df = pd.DataFrame({\"tsne_1\":tsne1,\"tsne_2\":tsne2,\"intent\":labels_text,\"domain\":domains,\"text\":texts})"
   ]
  },
  {
   "cell_type": "code",
   "execution_count": null,
   "metadata": {},
   "outputs": [],
   "source": [
    "embed_df"
   ]
  },
  {
   "cell_type": "code",
   "execution_count": null,
   "metadata": {},
   "outputs": [],
   "source": [
    "embed_df =embed_df.dropna()"
   ]
  },
  {
   "cell_type": "code",
   "execution_count": null,
   "metadata": {},
   "outputs": [],
   "source": [
    "len(labels_text)"
   ]
  },
  {
   "cell_type": "code",
   "execution_count": null,
   "metadata": {},
   "outputs": [],
   "source": [
    "fig = px.scatter(embed_df, x='tsne_1', y='tsne_2', hover_name='text',  color='intent'\n",
    "                 , template='plotly_white')\n",
    "\n",
    "fig.update_traces(marker=dict(line=dict(width=1, color='Gray')))\n",
    "fig.update_xaxes(visible=False)\n",
    "fig.update_yaxes(visible=False)\n",
    "fig.show()"
   ]
  },
  {
   "cell_type": "code",
   "execution_count": null,
   "metadata": {},
   "outputs": [],
   "source": [
    "import seaborn as sns\n",
    "from nltk.corpus import stopwords\n",
    "from collections import  Counter\n",
    "import matplotlib.pyplot as plt\n",
    "def plot_top_non_stopwords_barchart(text):\n",
    "    stop=set(stopwords.words('english'))\n",
    "    \n",
    "    new= text.str.split()\n",
    "    new=new.values.tolist()\n",
    "    corpus=[word for i in new for word in i]\n",
    "\n",
    "    counter=Counter(corpus)\n",
    "    most=counter.most_common()\n",
    "    x, y=[], []\n",
    "    for word,count in most[:40]:\n",
    "        if (word not in stop):\n",
    "            x.append(word)\n",
    "            y.append(count)\n",
    "            \n",
    "    sns.barplot(x=y,y=x)\n",
    "    plt.title(\"Top 40 Common Words\")\n",
    "    plt.xlabel(\"Occurences\")\n",
    "    plt.ylabel(\"Word\")\n",
    "    plt.show()"
   ]
  },
  {
   "cell_type": "code",
   "execution_count": null,
   "metadata": {},
   "outputs": [],
   "source": [
    "from ipywidgets import Dropdown,interact\n",
    "\n",
    "intent_widget = Dropdown(options = np.unique(dataframe[\"label_text\"]).tolist(),default=\"direct_deposit\")\n",
    "def selected(intent):\n",
    "    plot_top_non_stopwords_barchart(dataframe[dataframe[\"label_text\"]==intent]['text'])\n",
    "interact(selected,intent=intent_widget)"
   ]
  },
  {
   "cell_type": "markdown",
   "metadata": {
    "tags": []
   },
   "source": [
    "## Comparing current SOTA for this dataset"
   ]
  },
  {
   "cell_type": "code",
   "execution_count": null,
   "metadata": {},
   "outputs": [],
   "source": [
    "transformer_list = [\"transformersbook/distilbert-base-uncased-distilled-clinc\",\"transformersbook/distilbert-base-uncased-finetuned-clinc\",\"optimum/roberta-large-finetuned-clinc\",\"lewtun/roberta-large-finetuned-clinc\"]"
   ]
  },
  {
   "cell_type": "markdown",
   "metadata": {},
   "source": [
    "| Model                                                      | Accuracy | Loss   |\n",
    "|------------------------------------------------------------|----------|--------|\n",
    "| \"transformersbook/distilbert-base-uncased-distilled-clinc\" | 0.9394   | 0.1005 |\n",
    "| \"transformersbook/distilbert-base-uncased-finetuned-clinc\" | 0.9174   | 0.773  |\n",
    "| \"optimum/roberta-large-finetuned-clinc\"                    | 0.9729   | 0.1574 |\n",
    "| \"lewtun/roberta-large-finetuned-clinc\"                     | 0.9323   | 0.7983 |"
   ]
  },
  {
   "cell_type": "code",
   "execution_count": null,
   "metadata": {},
   "outputs": [],
   "source": [
    "def interpret_model(hf_model_id):\n",
    "    tokenizer = tr.AutoTokenizer.from_pretrained(hf_model_id)\n",
    "    model = tr.AutoModelForSequenceClassification.from_pretrained(hf_model_id)\n",
    "    cls_explainer = SequenceClassificationExplainer(\n",
    "        model,\n",
    "        tokenizer)\n",
    "    return cls_explainer\n",
    "    \n",
    "cls_explainers={model_id:interpret_model(model_id) for model_id in tqdm(transformer_list)}\n",
    "    "
   ]
  },
  {
   "cell_type": "code",
   "execution_count": null,
   "metadata": {},
   "outputs": [],
   "source": [
    "test_sentence = \"I'm booking a flight for my family but can't get through to the next page ,can you check if everything is ok with my card.\" \n",
    "def test_models(sentence):\n",
    "    for model_id in cls_explainers.keys():\n",
    "        print(\"Model ID:\",model_id)\n",
    "        cls_explainers[model_id](sentence)\n",
    "        print(\"Domain:\",get_domain(cls_explainers[model_id].predicted_class_name),\",Intent:\",cls_explainers[model_id].predicted_class_name)\n",
    "        cls_explainers[model_id].visualize()\n",
    "test_models(test_sentence)"
   ]
  },
  {
   "cell_type": "markdown",
   "metadata": {},
   "source": [
    "Now we add the phrase: \"because it is getting rejected\""
   ]
  },
  {
   "cell_type": "code",
   "execution_count": null,
   "metadata": {},
   "outputs": [],
   "source": [
    "test_sentence = \"I'm booking a flight for my family but can't get through to the next page, because it is getting rejected,can you check if everything is ok with my card.\"\n",
    "test_models(test_sentence)"
   ]
  },
  {
   "cell_type": "markdown",
   "metadata": {
    "tags": []
   },
   "source": [
    "## Zero-Shot"
   ]
  },
  {
   "cell_type": "code",
   "execution_count": null,
   "metadata": {},
   "outputs": [],
   "source": [
    "from transformers import pipeline\n",
    "classifier = pipeline(\"zero-shot-classification\",\n",
    "                      model=\"optimum/roberta-large-finetuned-clinc\")"
   ]
  },
  {
   "attachments": {
    "dbdd5bd4-5442-4961-a3a5-486b64569902.png": {
     "image/png": "[encoded data removed]"
    }
   },
   "cell_type": "markdown",
   "metadata": {
    "tags": []
   },
   "source": [
    "### Siamese Networks\n",
    "![image.png](attachment:dbdd5bd4-5442-4961-a3a5-486b64569902.png)"
   ]
  },
  {
   "cell_type": "code",
   "execution_count": null,
   "metadata": {},
   "outputs": [],
   "source": []
  },
  {
   "cell_type": "markdown",
   "metadata": {
    "tags": []
   },
   "source": [
    "# Augmentations\n",
    "In this section I will explore the NLPAUG library and perform some trivial augmentations to observe how robust the SOTA Supervised Models are regarding prediction of the correct intent."
   ]
  },
  {
   "cell_type": "code",
   "execution_count": null,
   "metadata": {},
   "outputs": [],
   "source": [
    "import nlpaug.augmenter.char as nac\n",
    "import nlpaug.augmenter.word as naw\n",
    "import nlpaug.augmenter.sentence as nas\n",
    "import nlpaug.flow as nafc\n",
    "\n",
    "from nlpaug.util import Action"
   ]
  },
  {
   "cell_type": "markdown",
   "metadata": {
    "jp-MarkdownHeadingCollapsed": true,
    "tags": []
   },
   "source": [
    "## Character wise Augmentations"
   ]
  },
  {
   "cell_type": "markdown",
   "metadata": {},
   "source": [
    "### Keyboard Augmentation"
   ]
  },
  {
   "cell_type": "code",
   "execution_count": null,
   "metadata": {},
   "outputs": [],
   "source": [
    "aug = nac.KeyboardAug()\n",
    "test_sentence_aug = aug.augment(test_sentence)\n",
    "print(test_sentence)\n",
    "print(test_sentence_aug)"
   ]
  },
  {
   "cell_type": "code",
   "execution_count": null,
   "metadata": {},
   "outputs": [],
   "source": [
    "test_models(test_sentence_aug[0])"
   ]
  },
  {
   "cell_type": "markdown",
   "metadata": {},
   "source": [
    "### OCR AUGMENTATION\n",
    "The errors that we would see in an OCR system, regarding misclassification of characters."
   ]
  },
  {
   "cell_type": "code",
   "execution_count": null,
   "metadata": {},
   "outputs": [],
   "source": [
    "aug = nac.OcrAug(name='OCR_Aug', aug_char_min=1, aug_char_max=10, aug_char_p=0.3, aug_word_p=0.3, aug_word_min=5, \n",
    "                 aug_word_max=100, stopwords=None, tokenizer=None, reverse_tokenizer=None, verbose=0, stopwords_regex=None, \n",
    "                 min_char=1)\n",
    " \n",
    "test_sentence_aug = aug.augment(test_sentence)\n",
    "print(test_sentence)\n",
    "print(test_sentence_aug)"
   ]
  },
  {
   "cell_type": "code",
   "execution_count": null,
   "metadata": {},
   "outputs": [],
   "source": [
    "test_models(test_sentence_aug[0])"
   ]
  },
  {
   "cell_type": "markdown",
   "metadata": {},
   "source": [
    "### Random Character Augmentation"
   ]
  },
  {
   "cell_type": "code",
   "execution_count": null,
   "metadata": {},
   "outputs": [],
   "source": [
    "\n",
    "for action in [\"substitute\",\"swap\",\"delete\"]:\n",
    "    print(\"ACTION:\",action)\n",
    "    aug = nac.RandomCharAug(action=action, name='RandomChar_Aug', aug_char_min=1, aug_char_max=10, aug_char_p=0.3, \n",
    "                            aug_word_p=0.3, aug_word_min=1, aug_word_max=10, include_upper_case=True, include_lower_case=True, \n",
    "                            include_numeric=False, min_char=4, swap_mode='adjacent', spec_char='!@#$%^&*()_+', stopwords=None, \n",
    "                            tokenizer=None, reverse_tokenizer=None, verbose=0, stopwords_regex=None)\n",
    "\n",
    "    test_sentence_aug = aug.augment(test_sentence)\n",
    "    print(test_sentence)\n",
    "    print(test_sentence_aug)\n",
    "    test_models(test_sentence_aug[0])"
   ]
  },
  {
   "cell_type": "markdown",
   "metadata": {
    "tags": []
   },
   "source": [
    "## Word Level Augmentation"
   ]
  },
  {
   "cell_type": "markdown",
   "metadata": {
    "jp-MarkdownHeadingCollapsed": true,
    "tags": []
   },
   "source": [
    "### Synonym"
   ]
  },
  {
   "cell_type": "code",
   "execution_count": null,
   "metadata": {},
   "outputs": [],
   "source": [
    "aug = naw.SynonymAug(aug_src='wordnet', model_path=None, name='Synonym_Aug', aug_min=1, aug_max=10, aug_p=0.3, lang='eng', \n",
    "                     stopwords=None, tokenizer=None, reverse_tokenizer=None, stopwords_regex=None, force_reload=False, \n",
    "                     verbose=0)\n",
    " \n",
    "test_sentence_aug = aug.augment(test_sentence)\n",
    "print(test_sentence)\n",
    "print(test_sentence_aug)"
   ]
  },
  {
   "cell_type": "code",
   "execution_count": null,
   "metadata": {},
   "outputs": [],
   "source": [
    "test_models(test_sentence_aug[0])"
   ]
  },
  {
   "cell_type": "markdown",
   "metadata": {
    "jp-MarkdownHeadingCollapsed": true,
    "tags": []
   },
   "source": [
    "### Antonym"
   ]
  },
  {
   "cell_type": "code",
   "execution_count": null,
   "metadata": {},
   "outputs": [],
   "source": [
    "aug = naw.AntonymAug(name='Antonym_Aug', aug_min=1, aug_max=10, aug_p=0.3, lang='eng', stopwords=None, tokenizer=None, \n",
    "                     reverse_tokenizer=None, stopwords_regex=None, verbose=0)\n",
    " \n",
    "test_sentence_aug = aug.augment(test_sentence)\n",
    "print(test_sentence_aug)"
   ]
  },
  {
   "cell_type": "code",
   "execution_count": null,
   "metadata": {},
   "outputs": [],
   "source": [
    "test_models(test_sentence_aug[0])"
   ]
  },
  {
   "cell_type": "markdown",
   "metadata": {
    "jp-MarkdownHeadingCollapsed": true,
    "tags": []
   },
   "source": [
    "### Random"
   ]
  },
  {
   "cell_type": "code",
   "execution_count": null,
   "metadata": {},
   "outputs": [],
   "source": [
    "aug = naw.RandomWordAug(action='delete', name='RandomWord_Aug', aug_min=1, aug_max=10, aug_p=0.3, stopwords=None, \n",
    "                        target_words=None, tokenizer=None, reverse_tokenizer=None, stopwords_regex=None, verbose=0)\n",
    " \n",
    "test_sentence_aug = aug.augment(test_sentence)\n",
    "print(test_sentence)\n",
    "print(test_sentence_aug)"
   ]
  },
  {
   "cell_type": "code",
   "execution_count": null,
   "metadata": {},
   "outputs": [],
   "source": [
    "test_models(test_sentence_aug[0])"
   ]
  },
  {
   "cell_type": "markdown",
   "metadata": {
    "jp-MarkdownHeadingCollapsed": true,
    "tags": []
   },
   "source": [
    "### Spelling"
   ]
  },
  {
   "cell_type": "code",
   "execution_count": null,
   "metadata": {},
   "outputs": [],
   "source": [
    "aug = naw.SpellingAug(dict_path=None, name='Spelling_Aug', aug_min=1, aug_max=10, aug_p=0.3, stopwords=None, \n",
    "                      tokenizer=None, reverse_tokenizer=None, include_reverse=True, stopwords_regex=None, verbose=0)\n",
    " \n",
    "test_sentence_aug = aug.augment(test_sentence)\n",
    "print(test_sentence)\n",
    "print(test_sentence_aug)"
   ]
  },
  {
   "cell_type": "code",
   "execution_count": null,
   "metadata": {},
   "outputs": [],
   "source": [
    "test_models(test_sentence_aug[0])"
   ]
  },
  {
   "cell_type": "markdown",
   "metadata": {
    "jp-MarkdownHeadingCollapsed": true,
    "tags": []
   },
   "source": [
    "### Split"
   ]
  },
  {
   "cell_type": "code",
   "execution_count": null,
   "metadata": {},
   "outputs": [],
   "source": [
    "aug = naw.SplitAug(name='Split_Aug', aug_min=1, aug_max=10, aug_p=0.3, min_char=4, stopwords=None, tokenizer=None, \n",
    "                   reverse_tokenizer=None, stopwords_regex=None, verbose=0)\n",
    " \n",
    "test_sentence_aug = aug.augment(test_sentence)\n",
    "print(test_sentence)\n",
    "print(test_sentence_aug)"
   ]
  },
  {
   "cell_type": "code",
   "execution_count": null,
   "metadata": {},
   "outputs": [],
   "source": [
    "test_models(test_sentence_aug[0])"
   ]
  },
  {
   "cell_type": "markdown",
   "metadata": {
    "jp-MarkdownHeadingCollapsed": true,
    "tags": []
   },
   "source": [
    "### Backtranslation"
   ]
  },
  {
   "cell_type": "code",
   "execution_count": null,
   "metadata": {},
   "outputs": [],
   "source": [
    "back_translation_aug = naw.BackTranslationAug(\n",
    "    from_model_name='facebook/wmt19-en-de', \n",
    "    to_model_name='facebook/wmt19-de-en'\n",
    ")\n",
    "test_sentence_aug = back_translation_aug.augment(test_sentence)\n",
    "print(test_sentence_aug)"
   ]
  },
  {
   "cell_type": "code",
   "execution_count": null,
   "metadata": {},
   "outputs": [],
   "source": [
    "test_models(test_sentence_aug[0])"
   ]
  },
  {
   "cell_type": "markdown",
   "metadata": {
    "jp-MarkdownHeadingCollapsed": true,
    "tags": []
   },
   "source": [
    "### Homonyms\n",
    "By using a large corpus of webscrapped words with similar sounding pairs, we can simulate the error that could occur in speech to text models or humans, where two words are so close causing the sentence to change. For this i decided to combine two datasets."
   ]
  },
  {
   "cell_type": "code",
   "execution_count": null,
   "metadata": {},
   "outputs": [],
   "source": [
    "# get the list of all possible homonyms\n",
    "from collections import defaultdict\n",
    "\n",
    "def homonyms_file_list():\n",
    "    \"\"\"\n",
    "    Return two dicts\n",
    "    homonyms_dict - a dict consisting of all the clubbed homonyms\n",
    "    reverse_homonym_dict - a dict consisting of every homonym as a index and value as a group id of homonym\n",
    "    \"\"\"\n",
    "    # specify the path of homonym list present\n",
    "    homonyms_data = pd.read_csv('./homonyms_list.csv', delimiter=',')\n",
    "    group_homonyms = homonyms_data.groupby(['relation_id', 'spelling'])\n",
    "    homonyms_dict = defaultdict(list)\n",
    "    reverse_homonym_dict = dict()\n",
    "    for x in list(group_homonyms['spelling']):\n",
    "        homonyms_dict[x[0][0]].append(x[0][1])\n",
    "        reverse_homonym_dict[x[0][1]] = x[0][0]\n",
    "    return homonyms_dict, reverse_homonym_dict\n",
    "homonyms_dict, reverse_homonym_dict=homonyms_file_list()"
   ]
  },
  {
   "cell_type": "code",
   "execution_count": null,
   "metadata": {},
   "outputs": [],
   "source": [
    "reverse_homonym_dict"
   ]
  },
  {
   "cell_type": "code",
   "execution_count": null,
   "metadata": {},
   "outputs": [],
   "source": [
    "for word in reverse_homonym_dict:\n",
    "    if word not in ssw.index.keys():\n",
    "        ssw.index[word]= homonyms_dict[reverse_homonym_dict[word]]\n",
    "    else:\n",
    "        ssw.index[word].extend(homonyms_dict[reverse_homonym_dict[word]])"
   ]
  },
  {
   "cell_type": "code",
   "execution_count": null,
   "metadata": {},
   "outputs": [],
   "source": [
    "def aug_Homonyms(sentence):\n",
    "    hm=\" \"\n",
    "    for word in sentence.split(\" \"):\n",
    "        if word in ssw.index.keys():\n",
    "            hm += random.choice(ssw.index[word]) \n",
    "        else:\n",
    "            hm+=word\n",
    "        hm+=\" \"\n",
    "    return hm\n",
    "\n",
    "test_models(aug_Homonyms(test_sentence))"
   ]
  },
  {
   "cell_type": "markdown",
   "metadata": {},
   "source": [
    "### Phonetic Augmentation"
   ]
  },
  {
   "cell_type": "code",
   "execution_count": null,
   "metadata": {},
   "outputs": [],
   "source": []
  },
  {
   "cell_type": "markdown",
   "metadata": {
    "tags": []
   },
   "source": [
    "## Flow Augmentation\n",
    "Here we will use multiple augmentations on the test text"
   ]
  },
  {
   "cell_type": "markdown",
   "metadata": {
    "tags": []
   },
   "source": [
    "### Bert\n",
    "We we use BERT to generate 5 variations of the original sentence and see how each effect the SOTA performances"
   ]
  },
  {
   "cell_type": "code",
   "execution_count": null,
   "metadata": {},
   "outputs": [],
   "source": [
    "TOPK=20 #default=100\n",
    "ACT = 'insert' #\"substitute\"\n",
    " \n",
    "aug_bert = naw.ContextualWordEmbsAug(\n",
    "    model_path='distilbert-base-uncased', \n",
    "    #device='cuda',\n",
    "    action=ACT, top_k=TOPK)\n",
    "print(\"Original:\")\n",
    "print(test_sentence)\n",
    "print(\"Augmented Text:\")\n",
    "for ii in range(5):\n",
    "    augmented_text = aug_bert.augment(test_sentence)\n",
    "    print(augmented_text)\n",
    "    test_models(augmented_text[0])"
   ]
  },
  {
   "cell_type": "markdown",
   "metadata": {
    "tags": []
   },
   "source": [
    "### Word2Vec"
   ]
  },
  {
   "cell_type": "code",
   "execution_count": null,
   "metadata": {},
   "outputs": [],
   "source": [
    "# model_type: word2vec, glove or fasttext\n",
    "aug_w2v = naw.WordEmbsAug(\n",
    "    model_type='glove', model_path='glove.6B.300d.txt',\n",
    "    action=\"substitute\")\n",
    "print(\"Original:\")\n",
    "print(test_sentence)\n",
    "test_sentence_aug = aug_w2v.augment(test_sentence)\n",
    "print(\"Augmented:\")\n",
    "print(test_sentence_aug)"
   ]
  },
  {
   "cell_type": "code",
   "execution_count": null,
   "metadata": {},
   "outputs": [],
   "source": [
    "test_models(test_sentence_aug[0])"
   ]
  },
  {
   "cell_type": "markdown",
   "metadata": {},
   "source": [
    "### Sequential"
   ]
  },
  {
   "cell_type": "code",
   "execution_count": null,
   "metadata": {},
   "outputs": [],
   "source": [
    "aug = nafc.Sequential([\n",
    "    aug_bert,aug_w2v\n",
    "])\n",
    "\n",
    "test_sentence_aug = aug.augment(test_sentence, n=5)\n",
    "for ii in range(5):\n",
    "    print(\"___________________________________________\\n\",test_sentence_aug[ii],\"\\n___________________________________________\\n\")\n",
    "    test_models(test_sentence_aug[ii])"
   ]
  },
  {
   "cell_type": "markdown",
   "metadata": {},
   "source": [
    "### Sometimes"
   ]
  },
  {
   "cell_type": "code",
   "execution_count": null,
   "metadata": {},
   "outputs": [],
   "source": [
    "aug = nafc.Sometimes([\n",
    "    aug_bert,aug_w2v\n",
    "],aug_p=0.5)\n",
    "\n",
    "\n",
    "test_sentence_aug = aug.augment(test_sentence, n=5)\n",
    "for ii in range(5):\n",
    "    print(\"___________________________________________\\n\",test_sentence_aug[ii],\"\\n___________________________________________\\n\")\n",
    "    test_models(test_sentence_aug[ii])"
   ]
  },
  {
   "cell_type": "code",
   "execution_count": null,
   "metadata": {},
   "outputs": [],
   "source": [
    "aug = nas.AbstSummAug(model_path='t5-base')\n",
    "augmented_text = aug.augment(test_sentence)\n",
    "print(\"Original:\")\n",
    "print(test_sentence)\n",
    "print(\"Augmented Text:\")\n",
    "print(augmented_text[0])\n",
    "test_models(augmented_text[0])"
   ]
  },
  {
   "cell_type": "code",
   "execution_count": null,
   "metadata": {},
   "outputs": [],
   "source": []
  }
 ],
 "metadata": {
  "kernelspec": {
   "display_name": "Python 3 (ipykernel)",
   "language": "python",
   "name": "python3"
  },
  "language_info": {
   "codemirror_mode": {
    "name": "ipython",
    "version": 3
   },
   "file_extension": ".py",
   "mimetype": "text/x-python",
   "name": "python",
   "nbconvert_exporter": "python",
   "pygments_lexer": "ipython3",
   "version": "3.9.13"
  },
  "vscode": {
   "interpreter": {
    "hash": "a9ea0fe488f95f079cb1e123b7c6bfa1ef6ceebd4ee6e950603664f30fe56109"
   }
  }
 },
 "nbformat": 4,
 "nbformat_minor": 4
}
